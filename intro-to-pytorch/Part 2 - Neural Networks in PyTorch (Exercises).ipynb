{
 "cells": [
  {
   "cell_type": "markdown",
   "metadata": {},
   "source": [
    "# Neural networks with PyTorch\n",
    "\n",
    "Deep learning networks tend to be massive with dozens or hundreds of layers, that's where the term \"deep\" comes from. You can build one of these deep networks using only weight matrices as we did in the previous notebook, but in general it's very cumbersome and difficult to implement. PyTorch has a nice module `nn` that provides a nice way to efficiently build large neural networks."
   ]
  },
  {
   "cell_type": "code",
   "execution_count": 2,
   "metadata": {
    "collapsed": true
   },
   "outputs": [],
   "source": [
    "# Import necessary packages\n",
    "\n",
    "%matplotlib inline\n",
    "%config InlineBackend.figure_format = 'retina'\n",
    "\n",
    "import numpy as np\n",
    "import torch\n",
    "\n",
    "import helper\n",
    "\n",
    "import matplotlib.pyplot as plt"
   ]
  },
  {
   "cell_type": "markdown",
   "metadata": {},
   "source": [
    "\n",
    "Now we're going to build a larger network that can solve a (formerly) difficult problem, identifying text in an image. Here we'll use the MNIST dataset which consists of greyscale handwritten digits. Each image is 28x28 pixels, you can see a sample below\n",
    "\n",
    "<img src='assets/mnist.png'>\n",
    "\n",
    "Our goal is to build a neural network that can take one of these images and predict the digit in the image.\n",
    "\n",
    "First up, we need to get our dataset. This is provided through the `torchvision` package. The code below will download the MNIST dataset, then create training and test datasets for us. Don't worry too much about the details here, you'll learn more about this later."
   ]
  },
  {
   "cell_type": "code",
   "execution_count": 1,
   "metadata": {},
   "outputs": [],
   "source": [
    "# The MNIST datasets are hosted on yann.lecun.com that has moved under CloudFlare protection\n",
    "# Run this script to enable the datasets download\n",
    "# Reference: https://github.com/pytorch/vision/issues/1938\n",
    "\n",
    "from six.moves import urllib\n",
    "opener = urllib.request.build_opener()\n",
    "opener.addheaders = [('User-agent', 'Mozilla/5.0')]\n",
    "urllib.request.install_opener(opener)"
   ]
  },
  {
   "cell_type": "code",
   "execution_count": null,
   "metadata": {
    "collapsed": true
   },
   "outputs": [],
   "source": [
    "### Run this cell\n",
    "\n",
    "from torchvision import datasets, transforms\n",
    "\n",
    "# Define a transform to normalize the data\n",
    "transform = transforms.Compose([transforms.ToTensor(),\n",
    "                              transforms.Normalize((0.5,), (0.5,)),\n",
    "                              ])\n",
    "\n",
    "# Download and load the training data\n",
    "trainset = datasets.MNIST('~/.pytorch/MNIST_data/', download=True, train=True, transform=transform)\n",
    "trainloader = torch.utils.data.DataLoader(trainset, batch_size=64, shuffle=True)"
   ]
  },
  {
   "cell_type": "markdown",
   "metadata": {},
   "source": [
    "We have the training data loaded into `trainloader` and we make that an iterator with `iter(trainloader)`. Later, we'll use this to loop through the dataset for training, like\n",
    "\n",
    "```python\n",
    "for image, label in trainloader:\n",
    "    ## do things with images and labels\n",
    "```\n",
    "\n",
    "You'll notice I created the `trainloader` with a batch size of 64, and `shuffle=True`. The batch size is the number of images we get in one iteration from the data loader and pass through our network, often called a *batch*. And `shuffle=True` tells it to shuffle the dataset every time we start going through the data loader again. But here I'm just grabbing the first batch so we can check out the data. We can see below that `images` is just a tensor with size `(64, 1, 28, 28)`. So, 64 images per batch, 1 color channel, and 28x28 images."
   ]
  },
  {
   "cell_type": "code",
   "execution_count": 19,
   "metadata": {
    "collapsed": true
   },
   "outputs": [
    {
     "name": "stdout",
     "output_type": "stream",
     "text": [
      "<class 'torch.Tensor'>\n",
      "torch.Size([64, 1, 28, 28])\n",
      "torch.Size([64])\n"
     ]
    }
   ],
   "source": [
    "dataiter = iter(trainloader)\n",
    "images, labels = dataiter.next()\n",
    "print(type(images))\n",
    "print(images.shape)\n",
    "print(labels.shape)"
   ]
  },
  {
   "cell_type": "markdown",
   "metadata": {},
   "source": [
    "This is what one of the images looks like. "
   ]
  },
  {
   "cell_type": "code",
   "execution_count": 20,
   "metadata": {
    "collapsed": true
   },
   "outputs": [
    {
     "data": {
      "image/png": "[encoded data removed]",
      "text/plain": [
       "<Figure size 432x288 with 1 Axes>"
      ]
     },
     "metadata": {
      "image/png": {
       "height": 248,
       "width": 251
      },
      "needs_background": "light"
     },
     "output_type": "display_data"
    }
   ],
   "source": [
    "plt.imshow(images[1].numpy().squeeze(), cmap='Greys_r');"
   ]
  },
  {
   "cell_type": "markdown",
   "metadata": {},
   "source": [
    "First, let's try to build a simple network for this dataset using weight matrices and matrix multiplications. Then, we'll see how to do it using PyTorch's `nn` module which provides a much more convenient and powerful method for defining network architectures.\n",
    "\n",
    "The networks you've seen so far are called *fully-connected* or *dense* networks. Each unit in one layer is connected to each unit in the next layer. In fully-connected networks, the input to each layer must be a one-dimensional vector (which can be stacked into a 2D tensor as a batch of multiple examples). However, our images are 28x28 2D tensors, so we need to convert them into 1D vectors. Thinking about sizes, we need to convert the batch of images with shape `(64, 1, 28, 28)` to a have a shape of `(64, 784)`, 784 is 28 times 28. This is typically called *flattening*, we flattened the 2D images into 1D vectors.\n",
    "\n",
    "Previously you built a network with one output unit. Here we need 10 output units, one for each digit. We want our network to predict the digit shown in an image, so what we'll do is calculate probabilities that the image is of any one digit or class. This ends up being a discrete probability distribution over the classes (digits) that tells us the most likely class for the image. That means we need 10 output units for the 10 classes (digits). We'll see how to convert the network output into a probability distribution next.\n",
    "\n",
    "> **Exercise:** Flatten the batch of images `images`. Then build a multi-layer network with 784 input units, 256 hidden units, and 10 output units using random tensors for the weights and biases. For now, use a sigmoid activation for the hidden layer. Leave the output layer without an activation, we'll add one that gives us a probability distribution next."
   ]
  },
  {
   "cell_type": "code",
   "execution_count": 21,
   "metadata": {
    "collapsed": true
   },
   "outputs": [
    {
     "name": "stdout",
     "output_type": "stream",
     "text": [
      "torch.Size([64, 10])\n",
      "tensor([[9.9893e-01, 1.1935e-01, 9.2087e-01, 1.0000e+00, 1.0000e+00, 2.6802e-08,\n",
      "         1.0000e+00, 9.9832e-01, 6.6822e-05, 9.9971e-01],\n",
      "        [3.3899e-03, 9.6019e-01, 2.8519e-04, 9.9950e-01, 9.3471e-01, 3.8857e-01,\n",
      "         1.0000e+00, 9.9616e-01, 5.9252e-04, 9.9999e-01],\n",
      "        [1.7635e-01, 2.1466e-03, 4.0201e-05, 9.9991e-01, 1.0000e+00, 1.6313e-07,\n",
      "         1.0000e+00, 9.8646e-01, 6.1950e-01, 9.7036e-01],\n",
      "        [3.4361e-01, 8.6237e-01, 5.8630e-04, 1.0000e+00, 9.9883e-01, 5.9364e-05,\n",
      "         9.9675e-01, 9.9936e-01, 9.1925e-01, 1.0000e+00],\n",
      "        [9.9983e-01, 7.6602e-02, 8.2194e-06, 9.9993e-01, 2.0396e-02, 3.3519e-06,\n",
      "         1.0000e+00, 1.0000e+00, 9.9820e-01, 1.0000e+00],\n",
      "        [1.3206e-01, 9.8571e-01, 8.8169e-01, 1.0000e+00, 1.0000e+00, 1.7760e-05,\n",
      "         1.0000e+00, 9.9925e-01, 1.1838e-02, 9.9992e-01],\n",
      "        [9.4394e-01, 9.9851e-01, 2.0201e-04, 1.0000e+00, 1.0000e+00, 1.3316e-08,\n",
      "         1.0000e+00, 9.9747e-01, 6.9431e-01, 1.0000e+00],\n",
      "        [7.9578e-01, 9.9986e-01, 7.3855e-03, 1.0000e+00, 8.9733e-01, 2.8782e-01,\n",
      "         1.0000e+00, 6.8296e-01, 4.9610e-01, 1.0000e+00],\n",
      "        [9.9989e-01, 8.8123e-01, 8.7717e-04, 1.0000e+00, 9.4998e-01, 2.5188e-03,\n",
      "         1.0000e+00, 7.9382e-02, 2.7362e-02, 1.0000e+00],\n",
      "        [9.9997e-01, 9.9874e-01, 2.7577e-02, 1.0000e+00, 9.2034e-01, 2.9906e-07,\n",
      "         1.0000e+00, 9.6845e-01, 3.8861e-03, 1.0000e+00],\n",
      "        [9.9996e-01, 7.6062e-03, 6.1505e-01, 1.0000e+00, 1.0000e+00, 1.8211e-04,\n",
      "         1.0000e+00, 1.3253e-03, 2.6420e-01, 1.0000e+00],\n",
      "        [1.2622e-03, 1.2777e-02, 9.6651e-01, 1.0000e+00, 9.9526e-01, 2.4072e-05,\n",
      "         1.0000e+00, 9.9833e-01, 6.4801e-01, 9.9791e-01],\n",
      "        [4.0431e-05, 3.3534e-03, 8.0369e-03, 9.9992e-01, 9.9951e-01, 1.3032e-07,\n",
      "         1.0000e+00, 2.4201e-01, 5.4970e-01, 9.9999e-01],\n",
      "        [6.8338e-04, 3.1794e-01, 1.3870e-05, 1.0000e+00, 1.0000e+00, 1.7832e-07,\n",
      "         1.0000e+00, 9.9439e-01, 5.3127e-03, 1.0000e+00],\n",
      "        [9.8824e-01, 2.1931e-01, 3.5342e-04, 9.3712e-01, 1.0000e+00, 5.5841e-07,\n",
      "         1.0000e+00, 9.0764e-01, 1.1765e-01, 1.0000e+00],\n",
      "        [2.6357e-02, 3.8540e-05, 1.9239e-02, 9.9998e-01, 9.9991e-01, 3.9095e-07,\n",
      "         1.0000e+00, 9.1735e-01, 9.4215e-01, 5.6565e-01],\n",
      "        [9.9014e-01, 9.6392e-01, 1.3283e-07, 9.1276e-01, 1.0000e+00, 7.2063e-08,\n",
      "         1.0000e+00, 9.9995e-01, 2.8252e-04, 1.0000e+00],\n",
      "        [1.5882e-04, 9.9714e-01, 8.4880e-03, 1.0000e+00, 9.9999e-01, 4.7350e-08,\n",
      "         9.9980e-01, 4.0562e-01, 8.8943e-02, 9.9596e-01],\n",
      "        [9.9928e-01, 6.2237e-01, 8.8317e-05, 7.4670e-01, 9.9964e-01, 3.6855e-08,\n",
      "         1.0000e+00, 1.6902e-04, 3.1562e-01, 1.0000e+00],\n",
      "        [9.9076e-01, 5.6126e-01, 3.5526e-01, 1.0000e+00, 1.0000e+00, 2.7711e-07,\n",
      "         1.0000e+00, 9.9991e-01, 4.4424e-05, 9.9995e-01],\n",
      "        [1.3437e-02, 2.8574e-02, 1.2545e-02, 9.9990e-01, 1.0000e+00, 1.8341e-03,\n",
      "         1.0000e+00, 1.4624e-02, 3.8959e-01, 1.0000e+00],\n",
      "        [8.3745e-01, 9.4243e-01, 1.0194e-02, 9.9996e-01, 9.9999e-01, 1.1138e-08,\n",
      "         9.9998e-01, 9.9916e-01, 1.6272e-05, 9.9542e-01],\n",
      "        [5.9253e-02, 3.8079e-01, 1.5523e-04, 1.0000e+00, 9.0192e-01, 1.2214e-03,\n",
      "         1.0000e+00, 9.5821e-01, 8.8976e-01, 1.0000e+00],\n",
      "        [9.5231e-01, 4.6303e-03, 9.9624e-01, 1.0000e+00, 1.0000e+00, 2.6712e-03,\n",
      "         1.0000e+00, 9.9899e-01, 1.3188e-02, 9.9999e-01],\n",
      "        [6.9163e-01, 6.5264e-01, 9.1266e-01, 9.9962e-01, 9.9994e-01, 7.3491e-10,\n",
      "         1.0000e+00, 9.9733e-01, 7.1255e-01, 9.9760e-01],\n",
      "        [5.5494e-02, 3.9208e-04, 3.2215e-01, 1.0000e+00, 9.9995e-01, 1.8174e-03,\n",
      "         1.0000e+00, 9.9291e-01, 2.9515e-01, 9.9998e-01],\n",
      "        [7.3502e-01, 9.7946e-01, 6.4210e-01, 1.0000e+00, 1.0000e+00, 5.1221e-04,\n",
      "         1.0000e+00, 9.8973e-01, 2.4914e-01, 1.0000e+00],\n",
      "        [8.2014e-03, 2.5876e-01, 7.3345e-01, 1.0000e+00, 1.0000e+00, 1.0925e-10,\n",
      "         1.0000e+00, 1.7797e-01, 9.9871e-01, 9.9999e-01],\n",
      "        [9.9999e-01, 7.7969e-02, 2.6500e-03, 1.0000e+00, 9.9920e-01, 2.1785e-03,\n",
      "         1.0000e+00, 3.9755e-01, 2.7550e-02, 1.0000e+00],\n",
      "        [1.7727e-03, 9.9794e-01, 4.4354e-02, 9.2338e-01, 9.9999e-01, 6.1481e-07,\n",
      "         1.0000e+00, 2.3407e-02, 6.1098e-01, 9.9990e-01],\n",
      "        [8.2870e-04, 9.8607e-01, 9.7959e-01, 9.9999e-01, 1.0000e+00, 1.4410e-07,\n",
      "         1.0000e+00, 9.9994e-01, 5.0249e-01, 1.0000e+00],\n",
      "        [1.2598e-02, 5.4084e-02, 2.0359e-03, 9.9564e-01, 1.0000e+00, 4.7111e-09,\n",
      "         9.9999e-01, 9.9995e-01, 6.1376e-03, 1.0000e+00],\n",
      "        [9.6429e-01, 9.9984e-01, 4.2804e-03, 9.0873e-01, 1.0000e+00, 5.2759e-07,\n",
      "         1.0000e+00, 9.1606e-01, 9.8589e-01, 1.0000e+00],\n",
      "        [4.8962e-03, 9.9397e-01, 3.0317e-04, 1.0000e+00, 9.9951e-01, 7.1537e-06,\n",
      "         1.0000e+00, 9.1455e-01, 8.9772e-01, 9.9993e-01],\n",
      "        [9.9728e-01, 7.9813e-01, 2.2476e-04, 1.0000e+00, 1.0000e+00, 1.4868e-10,\n",
      "         1.0000e+00, 9.4953e-01, 1.7437e-05, 1.0000e+00],\n",
      "        [4.3034e-03, 3.2587e-03, 6.7905e-01, 1.0000e+00, 1.0000e+00, 1.1116e-09,\n",
      "         1.0000e+00, 9.9999e-01, 9.0745e-02, 9.3118e-01],\n",
      "        [3.2768e-01, 8.1794e-02, 9.9693e-01, 9.9975e-01, 1.0000e+00, 8.2245e-07,\n",
      "         1.0000e+00, 7.8784e-01, 8.7445e-01, 9.9998e-01],\n",
      "        [2.2108e-06, 6.2478e-02, 2.6640e-01, 1.0000e+00, 1.0000e+00, 2.8580e-08,\n",
      "         1.0000e+00, 9.9999e-01, 9.4601e-01, 9.9565e-01],\n",
      "        [2.7748e-01, 5.0177e-01, 5.2203e-04, 1.0000e+00, 9.9803e-01, 3.0127e-06,\n",
      "         1.0000e+00, 9.9998e-01, 8.5878e-01, 1.0000e+00],\n",
      "        [3.0527e-01, 1.0037e-03, 9.9887e-01, 1.0000e+00, 9.9850e-01, 3.7462e-03,\n",
      "         1.0000e+00, 9.9842e-01, 1.0677e-02, 8.0901e-01],\n",
      "        [9.8592e-01, 1.3376e-01, 6.0455e-02, 1.0000e+00, 9.9994e-01, 1.1982e-07,\n",
      "         9.9999e-01, 7.5544e-01, 8.2853e-01, 9.9589e-01],\n",
      "        [9.9797e-01, 9.9928e-01, 3.3005e-01, 1.0000e+00, 9.9999e-01, 5.6054e-05,\n",
      "         1.0000e+00, 7.2531e-01, 1.1121e-01, 9.9980e-01],\n",
      "        [9.8845e-01, 9.8474e-01, 9.9339e-01, 1.0000e+00, 1.0000e+00, 5.8383e-04,\n",
      "         1.0000e+00, 1.6844e-03, 2.6636e-07, 9.9991e-01],\n",
      "        [8.3896e-01, 3.7149e-01, 6.7005e-01, 1.0000e+00, 1.0000e+00, 7.4568e-08,\n",
      "         1.0000e+00, 9.7382e-01, 1.7538e-01, 1.0000e+00],\n",
      "        [2.1882e-02, 7.4935e-03, 7.5955e-04, 9.9614e-01, 4.8435e-01, 4.0812e-07,\n",
      "         1.0000e+00, 9.9150e-01, 9.0951e-06, 9.9977e-01],\n",
      "        [1.5134e-01, 1.8219e-02, 4.7378e-02, 1.0000e+00, 9.9999e-01, 8.6008e-07,\n",
      "         1.0000e+00, 9.6317e-01, 8.5387e-01, 9.9974e-01],\n",
      "        [9.9747e-01, 1.6797e-01, 1.1211e-01, 1.0000e+00, 9.9999e-01, 1.6558e-03,\n",
      "         1.0000e+00, 1.4527e-01, 2.0393e-01, 9.9995e-01],\n",
      "        [2.9032e-01, 8.9391e-01, 9.2979e-05, 9.9231e-01, 1.0000e+00, 8.9428e-09,\n",
      "         1.0000e+00, 5.6054e-02, 6.8878e-01, 9.9999e-01],\n",
      "        [9.9944e-01, 5.5378e-01, 5.1106e-03, 1.0000e+00, 9.9999e-01, 6.9700e-04,\n",
      "         1.0000e+00, 6.3549e-01, 4.4559e-02, 1.0000e+00],\n",
      "        [9.4893e-01, 2.2634e-02, 1.0320e-03, 1.0000e+00, 9.9989e-01, 4.6465e-11,\n",
      "         9.7553e-01, 9.9910e-01, 9.9219e-01, 8.8475e-01],\n",
      "        [7.8136e-01, 2.7211e-01, 6.0766e-03, 1.0000e+00, 2.4642e-03, 1.3095e-03,\n",
      "         1.0000e+00, 1.7967e-01, 2.6729e-01, 9.5469e-01],\n",
      "        [4.8075e-01, 9.9918e-01, 1.4564e-04, 9.9967e-01, 9.9998e-01, 1.1761e-03,\n",
      "         1.0000e+00, 1.3784e-02, 9.9304e-01, 1.0000e+00],\n",
      "        [9.9974e-01, 2.4852e-03, 3.3913e-02, 1.0000e+00, 1.0000e+00, 6.0551e-03,\n",
      "         1.0000e+00, 9.1848e-01, 3.3949e-01, 9.9935e-01],\n",
      "        [6.1761e-02, 1.7186e-02, 9.9464e-01, 1.0000e+00, 1.0000e+00, 1.0818e-08,\n",
      "         1.0000e+00, 9.0933e-01, 9.9366e-01, 9.7095e-01],\n",
      "        [4.5972e-02, 2.5012e-01, 2.3307e-03, 1.0000e+00, 9.9800e-01, 1.9281e-05,\n",
      "         1.0000e+00, 9.9995e-01, 6.5998e-01, 9.9884e-01],\n",
      "        [9.4964e-02, 9.1280e-01, 2.4018e-03, 9.9997e-01, 9.2771e-01, 2.7747e-09,\n",
      "         1.0000e+00, 9.9733e-01, 1.1374e-01, 9.8153e-01],\n",
      "        [9.6563e-01, 5.7711e-02, 9.8473e-01, 9.9997e-01, 9.6439e-01, 6.4904e-03,\n",
      "         1.0000e+00, 9.9996e-01, 5.6428e-01, 1.0000e+00],\n",
      "        [2.7374e-02, 9.7176e-01, 8.3050e-07, 1.0000e+00, 1.0000e+00, 1.5755e-06,\n",
      "         1.0000e+00, 4.6012e-02, 1.2859e-01, 9.8182e-01],\n",
      "        [9.8390e-01, 8.3975e-01, 8.7622e-02, 1.0000e+00, 1.0000e+00, 1.6359e-02,\n",
      "         1.0000e+00, 5.5958e-02, 1.2080e-01, 1.0000e+00],\n",
      "        [3.5474e-03, 5.6838e-04, 5.1738e-01, 1.0000e+00, 1.0000e+00, 3.0325e-07,\n",
      "         1.0000e+00, 5.2594e-02, 3.1078e-02, 1.0000e+00],\n",
      "        [8.6543e-01, 1.3165e-01, 1.6282e-02, 1.0000e+00, 9.9896e-01, 1.8691e-03,\n",
      "         1.0000e+00, 2.2256e-01, 4.0172e-03, 1.0000e+00],\n",
      "        [7.6429e-01, 9.6380e-02, 1.1633e-04, 9.9554e-01, 1.0000e+00, 1.6816e-03,\n",
      "         1.0000e+00, 5.0406e-03, 7.8304e-01, 9.9991e-01],\n",
      "        [9.9561e-01, 8.9595e-04, 2.6558e-01, 1.0000e+00, 8.9904e-01, 8.3028e-03,\n",
      "         1.0000e+00, 8.6249e-01, 4.1141e-01, 9.9180e-01],\n",
      "        [2.6234e-02, 9.6478e-04, 2.8738e-03, 9.9233e-01, 9.8269e-01, 2.1096e-06,\n",
      "         1.0000e+00, 9.7398e-01, 2.8660e-02, 1.0000e+00]])\n"
     ]
    }
   ],
   "source": [
    "## Your solution\n",
    "def activation(x):\n",
    "    return 1/(1+torch.exp(-x))\n",
    "\n",
    "# flatten batch of images\n",
    "input = images.view(images.shape[0], -1)\n",
    "\n",
    "W1 = torch.randn(784, 256)\n",
    "W2 = torch.randn(256, 10)\n",
    "\n",
    "B1 = torch.randn(1, 256)\n",
    "B2 = torch.randn(1, 10)\n",
    "\n",
    "h = activation(torch.mm(input, W1) + B1)\n",
    "out = activation(torch.mm(h, W2) + B2)\n",
    "# output of your network, should have shape (64,10)\n",
    "print(out.shape)\n",
    "print(out)"
   ]
  },
  {
   "cell_type": "markdown",
   "metadata": {},
   "source": [
    "Now we have 10 outputs for our network. We want to pass in an image to our network and get out a probability distribution over the classes that tells us the likely class(es) the image belongs to. Something that looks like this:\n",
    "<img src='assets/image_distribution.png' width=500px>\n",
    "\n",
    "Here we see that the probability for each class is roughly the same. This is representing an untrained network, it hasn't seen any data yet so it just returns a uniform distribution with equal probabilities for each class.\n",
    "\n",
    "To calculate this probability distribution, we often use the [**softmax** function](https://en.wikipedia.org/wiki/Softmax_function). Mathematically this looks like\n",
    "\n",
    "$$\n",
    "\\Large \\sigma(x_i) = \\cfrac{e^{x_i}}{\\sum_k^K{e^{x_k}}}\n",
    "$$\n",
    "\n",
    "What this does is squish each input $x_i$ between 0 and 1 and normalizes the values to give you a proper probability distribution where the probabilites sum up to one.\n",
    "\n",
    "> **Exercise:** Implement a function `softmax` that performs the softmax calculation and returns probability distributions for each example in the batch. Note that you'll need to pay attention to the shapes when doing this. If you have a tensor `a` with shape `(64, 10)` and a tensor `b` with shape `(64,)`, doing `a/b` will give you an error because PyTorch will try to do the division across the columns (called broadcasting) but you'll get a size mismatch. The way to think about this is for each of the 64 examples, you only want to divide by one value, the sum in the denominator. So you need `b` to have a shape of `(64, 1)`. This way PyTorch will divide the 10 values in each row of `a` by the one value in each row of `b`. Pay attention to how you take the sum as well. You'll need to define the `dim` keyword in `torch.sum`. Setting `dim=0` takes the sum across the rows while `dim=1` takes the sum across the columns."
   ]
  },
  {
   "cell_type": "code",
   "execution_count": 27,
   "metadata": {
    "collapsed": true
   },
   "outputs": [
    {
     "name": "stdout",
     "output_type": "stream",
     "text": [
      "torch.Size([64, 10])\n",
      "tensor([1.0000, 1.0000, 1.0000, 1.0000, 1.0000, 1.0000, 1.0000, 1.0000, 1.0000,\n",
      "        1.0000, 1.0000, 1.0000, 1.0000, 1.0000, 1.0000, 1.0000, 1.0000, 1.0000,\n",
      "        1.0000, 1.0000, 1.0000, 1.0000, 1.0000, 1.0000, 1.0000, 1.0000, 1.0000,\n",
      "        1.0000, 1.0000, 1.0000, 1.0000, 1.0000, 1.0000, 1.0000, 1.0000, 1.0000,\n",
      "        1.0000, 1.0000, 1.0000, 1.0000, 1.0000, 1.0000, 1.0000, 1.0000, 1.0000,\n",
      "        1.0000, 1.0000, 1.0000, 1.0000, 1.0000, 1.0000, 1.0000, 1.0000, 1.0000,\n",
      "        1.0000, 1.0000, 1.0000, 1.0000, 1.0000, 1.0000, 1.0000, 1.0000, 1.0000,\n",
      "        1.0000])\n"
     ]
    }
   ],
   "source": [
    "def softmax(x):\n",
    "    ## Implement the softmax function here\n",
    "    sumofx_exp = torch.sum(torch.exp(x), dim=1).view(-1, 1)\n",
    "    #print(sumofx_exp)\n",
    "    return torch.exp(x)/sumofx_exp\n",
    "\n",
    "# Here, out should be the output of the network in the previous excercise with shape (64,10)\n",
    "probabilities = softmax(out)\n",
    "\n",
    "# Does it have the right shape? Should be (64, 10)\n",
    "print(probabilities.shape)\n",
    "# Does it sum to 1?\n",
    "print(probabilities.sum(dim=1))"
   ]
  },
  {
   "cell_type": "markdown",
   "metadata": {},
   "source": [
    "## Building networks with PyTorch\n",
    "\n",
    "PyTorch provides a module `nn` that makes building networks much simpler. Here I'll show you how to build the same one as above with 784 inputs, 256 hidden units, 10 output units and a softmax output."
   ]
  },
  {
   "cell_type": "code",
   "execution_count": 29,
   "metadata": {
    "collapsed": true
   },
   "outputs": [],
   "source": [
    "from torch import nn"
   ]
  },
  {
   "cell_type": "code",
   "execution_count": null,
   "metadata": {
    "collapsed": true
   },
   "outputs": [],
   "source": [
    "class Network(nn.Module):\n",
    "    def __init__(self):\n",
    "        super().__init__()\n",
    "        \n",
    "        # Inputs to hidden layer linear transformation\n",
    "        self.hidden = nn.Linear(784, 256)\n",
    "        # Output layer, 10 units - one for each digit\n",
    "        self.output = nn.Linear(256, 10)\n",
    "        \n",
    "        # Define sigmoid activation and softmax output \n",
    "        self.sigmoid = nn.Sigmoid()\n",
    "        self.softmax = nn.Softmax(dim=1)\n",
    "        \n",
    "    def forward(self, x):\n",
    "        # Pass the input tensor through each of our operations\n",
    "        x = self.hidden(x)\n",
    "        x = self.sigmoid(x)\n",
    "        x = self.output(x)\n",
    "        x = self.softmax(x)\n",
    "        \n",
    "        return x"
   ]
  },
  {
   "cell_type": "markdown",
   "metadata": {},
   "source": [
    "Let's go through this bit by bit.\n",
    "\n",
    "```python\n",
    "class Network(nn.Module):\n",
    "```\n",
    "\n",
    "Here we're inheriting from `nn.Module`. Combined with `super().__init__()` this creates a class that tracks the architecture and provides a lot of useful methods and attributes. It is mandatory to inherit from `nn.Module` when you're creating a class for your network. The name of the class itself can be anything.\n",
    "\n",
    "```python\n",
    "self.hidden = nn.Linear(784, 256)\n",
    "```\n",
    "\n",
    "This line creates a module for a linear transformation, $x\\mathbf{W} + b$, with 784 inputs and 256 outputs and assigns it to `self.hidden`. The module automatically creates the weight and bias tensors which we'll use in the `forward` method. You can access the weight and bias tensors once the network (`net`) is created with `net.hidden.weight` and `net.hidden.bias`.\n",
    "\n",
    "```python\n",
    "self.output = nn.Linear(256, 10)\n",
    "```\n",
    "\n",
    "Similarly, this creates another linear transformation with 256 inputs and 10 outputs.\n",
    "\n",
    "```python\n",
    "self.sigmoid = nn.Sigmoid()\n",
    "self.softmax = nn.Softmax(dim=1)\n",
    "```\n",
    "\n",
    "Here I defined operations for the sigmoid activation and softmax output. Setting `dim=1` in `nn.Softmax(dim=1)` calculates softmax across the columns.\n",
    "\n",
    "```python\n",
    "def forward(self, x):\n",
    "```\n",
    "\n",
    "PyTorch networks created with `nn.Module` must have a `forward` method defined. It takes in a tensor `x` and passes it through the operations you defined in the `__init__` method.\n",
    "\n",
    "```python\n",
    "x = self.hidden(x)\n",
    "x = self.sigmoid(x)\n",
    "x = self.output(x)\n",
    "x = self.softmax(x)\n",
    "```\n",
    "\n",
    "Here the input tensor `x` is passed through each operation and reassigned to `x`. We can see that the input tensor goes through the hidden layer, then a sigmoid function, then the output layer, and finally the softmax function. It doesn't matter what you name the variables here, as long as the inputs and outputs of the operations match the network architecture you want to build. The order in which you define things in the `__init__` method doesn't matter, but you'll need to sequence the operations correctly in the `forward` method.\n",
    "\n",
    "Now we can create a `Network` object."
   ]
  },
  {
   "cell_type": "code",
   "execution_count": null,
   "metadata": {
    "collapsed": true
   },
   "outputs": [],
   "source": [
    "# Create the network and look at it's text representation\n",
    "model = Network()\n",
    "model"
   ]
  },
  {
   "cell_type": "markdown",
   "metadata": {},
   "source": [
    "You can define the network somewhat more concisely and clearly using the `torch.nn.functional` module. This is the most common way you'll see networks defined as many operations are simple element-wise functions. We normally import this module as `F`, `import torch.nn.functional as F`."
   ]
  },
  {
   "cell_type": "code",
   "execution_count": null,
   "metadata": {
    "collapsed": true
   },
   "outputs": [],
   "source": [
    "import torch.nn.functional as F\n",
    "\n",
    "class Network(nn.Module):\n",
    "    def __init__(self):\n",
    "        super().__init__()\n",
    "        # Inputs to hidden layer linear transformation\n",
    "        self.hidden = nn.Linear(784, 256)\n",
    "        # Output layer, 10 units - one for each digit\n",
    "        self.output = nn.Linear(256, 10)\n",
    "        \n",
    "    def forward(self, x):\n",
    "        # Hidden layer with sigmoid activation\n",
    "        x = F.sigmoid(self.hidden(x))\n",
    "        # Output layer with softmax activation\n",
    "        x = F.softmax(self.output(x), dim=1)\n",
    "        \n",
    "        return x"
   ]
  },
  {
   "cell_type": "markdown",
   "metadata": {},
   "source": [
    "### Activation functions\n",
    "\n",
    "So far we've only been looking at the sigmoid activation function, but in general any function can be used as an activation function. The only requirement is that for a network to approximate a non-linear function, the activation functions must be non-linear. Here are a few more examples of common activation functions: Tanh (hyperbolic tangent), and ReLU (rectified linear unit).\n",
    "\n",
    "<img src=\"assets/activation.png\" width=700px>\n",
    "\n",
    "In practice, the ReLU function is used almost exclusively as the activation function for hidden layers."
   ]
  },
  {
   "cell_type": "markdown",
   "metadata": {},
   "source": [
    "### Your Turn to Build a Network\n",
    "\n",
    "<img src=\"assets/mlp_mnist.png\" width=600px>\n",
    "\n",
    "> **Exercise:** Create a network with 784 input units, a hidden layer with 128 units and a ReLU activation, then a hidden layer with 64 units and a ReLU activation, and finally an output layer with a softmax activation as shown above. You can use a ReLU activation with the `nn.ReLU` module or `F.relu` function.\n",
    "\n",
    "It's good practice to name your layers by their type of network, for instance 'fc' to represent a fully-connected layer. As you code your solution, use `fc1`, `fc2`, and `fc3` as your layer names."
   ]
  },
  {
   "cell_type": "code",
   "execution_count": 31,
   "metadata": {
    "collapsed": true,
    "scrolled": true
   },
   "outputs": [
    {
     "data": {
      "text/plain": [
       "Network(\n",
       "  (fc1): Linear(in_features=784, out_features=128, bias=True)\n",
       "  (fc2): Linear(in_features=128, out_features=64, bias=True)\n",
       "  (fc3): Linear(in_features=64, out_features=10, bias=True)\n",
       ")"
      ]
     },
     "execution_count": 31,
     "metadata": {},
     "output_type": "execute_result"
    }
   ],
   "source": [
    "## Your solution here\n",
    "import torch.nn.functional as F\n",
    "\n",
    "class Network(nn.Module):\n",
    "    def __init__(self):\n",
    "        super().__init__()\n",
    "        self.fc1 = nn.Linear(784, 128)\n",
    "        self.fc2 = nn.Linear(128, 64)\n",
    "        self.fc3 = nn.Linear(64, 10)\n",
    "        \n",
    "    def forward(self, x):\n",
    "        x = F.relu(self.fc1(x))\n",
    "        x = F.relu(self.fc2(x))\n",
    "        x = F.softmax(self.fc3(x), dim=1)\n",
    "        return x    \n",
    "\n",
    "model = Network()\n",
    "model"
   ]
  },
  {
   "cell_type": "markdown",
   "metadata": {},
   "source": [
    "### Initializing weights and biases\n",
    "\n",
    "The weights and such are automatically initialized for you, but it's possible to customize how they are initialized. The weights and biases are tensors attached to the layer you defined, you can get them with `model.fc1.weight` for instance."
   ]
  },
  {
   "cell_type": "code",
   "execution_count": 32,
   "metadata": {
    "collapsed": true
   },
   "outputs": [
    {
     "name": "stdout",
     "output_type": "stream",
     "text": [
      "Parameter containing:\n",
      "tensor([[ 0.0197, -0.0259, -0.0079,  ...,  0.0323, -0.0318, -0.0135],\n",
      "        [-0.0208,  0.0310, -0.0100,  ...,  0.0074, -0.0154,  0.0224],\n",
      "        [ 0.0248, -0.0119, -0.0033,  ..., -0.0152,  0.0111, -0.0321],\n",
      "        ...,\n",
      "        [ 0.0168,  0.0298, -0.0107,  ..., -0.0204, -0.0346, -0.0100],\n",
      "        [ 0.0190, -0.0171,  0.0186,  ...,  0.0020, -0.0088,  0.0143],\n",
      "        [-0.0174, -0.0338,  0.0084,  ..., -0.0047, -0.0098,  0.0272]],\n",
      "       requires_grad=True)\n",
      "Parameter containing:\n",
      "tensor([-0.0348, -0.0264,  0.0039, -0.0103,  0.0329, -0.0207, -0.0309, -0.0304,\n",
      "        -0.0271,  0.0031,  0.0052, -0.0322,  0.0302, -0.0304, -0.0222,  0.0258,\n",
      "         0.0123,  0.0123,  0.0118, -0.0332, -0.0034, -0.0336,  0.0010, -0.0058,\n",
      "        -0.0167,  0.0001,  0.0033,  0.0311,  0.0334, -0.0042,  0.0163,  0.0109,\n",
      "         0.0111, -0.0353,  0.0249, -0.0240, -0.0327,  0.0103, -0.0188, -0.0212,\n",
      "         0.0064, -0.0122, -0.0326, -0.0123, -0.0336, -0.0346,  0.0327,  0.0322,\n",
      "        -0.0263, -0.0096,  0.0211,  0.0221, -0.0334, -0.0235, -0.0080, -0.0320,\n",
      "        -0.0094,  0.0326, -0.0234,  0.0139,  0.0055, -0.0171, -0.0298, -0.0312,\n",
      "         0.0159,  0.0166,  0.0204, -0.0130,  0.0028,  0.0025,  0.0308,  0.0301,\n",
      "         0.0326, -0.0173, -0.0135,  0.0305,  0.0126, -0.0087,  0.0014,  0.0041,\n",
      "         0.0112, -0.0139,  0.0022, -0.0150, -0.0187, -0.0022, -0.0092, -0.0150,\n",
      "         0.0204, -0.0141, -0.0302, -0.0264,  0.0327, -0.0156, -0.0148,  0.0278,\n",
      "        -0.0298,  0.0003,  0.0233,  0.0185, -0.0042,  0.0121,  0.0081,  0.0201,\n",
      "         0.0038,  0.0331,  0.0098,  0.0016,  0.0121,  0.0196, -0.0096, -0.0352,\n",
      "        -0.0263, -0.0080,  0.0232, -0.0304, -0.0239, -0.0166, -0.0320,  0.0184,\n",
      "        -0.0160,  0.0295, -0.0149, -0.0192, -0.0079,  0.0240,  0.0190, -0.0345],\n",
      "       requires_grad=True)\n"
     ]
    }
   ],
   "source": [
    "print(model.fc1.weight)\n",
    "print(model.fc1.bias)"
   ]
  },
  {
   "cell_type": "markdown",
   "metadata": {},
   "source": [
    "For custom initialization, we want to modify these tensors in place. These are actually autograd *Variables*, so we need to get back the actual tensors with `model.fc1.weight.data`. Once we have the tensors, we can fill them with zeros (for biases) or random normal values."
   ]
  },
  {
   "cell_type": "code",
   "execution_count": 33,
   "metadata": {
    "collapsed": true
   },
   "outputs": [
    {
     "data": {
      "text/plain": [
       "tensor([0., 0., 0., 0., 0., 0., 0., 0., 0., 0., 0., 0., 0., 0., 0., 0., 0., 0., 0., 0., 0., 0., 0., 0.,\n",
       "        0., 0., 0., 0., 0., 0., 0., 0., 0., 0., 0., 0., 0., 0., 0., 0., 0., 0., 0., 0., 0., 0., 0., 0.,\n",
       "        0., 0., 0., 0., 0., 0., 0., 0., 0., 0., 0., 0., 0., 0., 0., 0., 0., 0., 0., 0., 0., 0., 0., 0.,\n",
       "        0., 0., 0., 0., 0., 0., 0., 0., 0., 0., 0., 0., 0., 0., 0., 0., 0., 0., 0., 0., 0., 0., 0., 0.,\n",
       "        0., 0., 0., 0., 0., 0., 0., 0., 0., 0., 0., 0., 0., 0., 0., 0., 0., 0., 0., 0., 0., 0., 0., 0.,\n",
       "        0., 0., 0., 0., 0., 0., 0., 0.])"
      ]
     },
     "execution_count": 33,
     "metadata": {},
     "output_type": "execute_result"
    }
   ],
   "source": [
    "# Set biases to all zeros\n",
    "model.fc1.bias.data.fill_(0)"
   ]
  },
  {
   "cell_type": "code",
   "execution_count": 34,
   "metadata": {
    "collapsed": true
   },
   "outputs": [
    {
     "data": {
      "text/plain": [
       "tensor([[ 0.0189, -0.0052, -0.0010,  ...,  0.0106, -0.0024,  0.0018],\n",
       "        [-0.0003,  0.0107, -0.0199,  ...,  0.0044, -0.0137,  0.0017],\n",
       "        [ 0.0004,  0.0021, -0.0164,  ...,  0.0037, -0.0082,  0.0135],\n",
       "        ...,\n",
       "        [-0.0003, -0.0005, -0.0092,  ..., -0.0033, -0.0068, -0.0064],\n",
       "        [ 0.0072, -0.0056, -0.0051,  ...,  0.0076,  0.0035, -0.0062],\n",
       "        [ 0.0240, -0.0202, -0.0113,  ...,  0.0083,  0.0224, -0.0089]])"
      ]
     },
     "execution_count": 34,
     "metadata": {},
     "output_type": "execute_result"
    }
   ],
   "source": [
    "# sample from random normal with standard dev = 0.01\n",
    "model.fc1.weight.data.normal_(std=0.01)"
   ]
  },
  {
   "cell_type": "markdown",
   "metadata": {},
   "source": [
    "### Forward pass\n",
    "\n",
    "Now that we have a network, let's see what happens when we pass in an image."
   ]
  },
  {
   "cell_type": "code",
   "execution_count": 35,
   "metadata": {
    "collapsed": true
   },
   "outputs": [
    {
     "data": {
      "image/png": "[encoded data removed]",
      "text/plain": [
       "<Figure size 432x648 with 2 Axes>"
      ]
     },
     "metadata": {
      "image/png": {
       "height": 235,
       "width": 424
      },
      "needs_background": "light"
     },
     "output_type": "display_data"
    }
   ],
   "source": [
    "# Grab some data \n",
    "dataiter = iter(trainloader)\n",
    "images, labels = dataiter.next()\n",
    "\n",
    "# Resize images into a 1D vector, new shape is (batch size, color channels, image pixels) \n",
    "images.resize_(64, 1, 784)\n",
    "# or images.resize_(images.shape[0], 1, 784) to automatically get batch size\n",
    "\n",
    "# Forward pass through the network\n",
    "img_idx = 0\n",
    "ps = model.forward(images[img_idx,:])\n",
    "\n",
    "img = images[img_idx]\n",
    "helper.view_classify(img.view(1, 28, 28), ps)"
   ]
  },
  {
   "cell_type": "markdown",
   "metadata": {},
   "source": [
    "As you can see above, our network has basically no idea what this digit is. It's because we haven't trained it yet, all the weights are random!\n",
    "\n",
    "### Using `nn.Sequential`\n",
    "\n",
    "PyTorch provides a convenient way to build networks like this where a tensor is passed sequentially through operations, `nn.Sequential` ([documentation](https://pytorch.org/docs/master/nn.html#torch.nn.Sequential)). Using this to build the equivalent network:"
   ]
  },
  {
   "cell_type": "code",
   "execution_count": null,
   "metadata": {
    "collapsed": true
   },
   "outputs": [],
   "source": [
    "# Hyperparameters for our network\n",
    "input_size = 784\n",
    "hidden_sizes = [128, 64]\n",
    "output_size = 10\n",
    "\n",
    "# Build a feed-forward network\n",
    "model = nn.Sequential(nn.Linear(input_size, hidden_sizes[0]),\n",
    "                      nn.ReLU(),\n",
    "                      nn.Linear(hidden_sizes[0], hidden_sizes[1]),\n",
    "                      nn.ReLU(),\n",
    "                      nn.Linear(hidden_sizes[1], output_size),\n",
    "                      nn.Softmax(dim=1))\n",
    "print(model)\n",
    "\n",
    "# Forward pass through the network and display output\n",
    "images, labels = next(iter(trainloader))\n",
    "images.resize_(images.shape[0], 1, 784)\n",
    "ps = model.forward(images[0,:])\n",
    "helper.view_classify(images[0].view(1, 28, 28), ps)"
   ]
  },
  {
   "cell_type": "markdown",
   "metadata": {},
   "source": [
    "Here our model is the same as before: 784 input units, a hidden layer with 128 units, ReLU activation, 64 unit hidden layer, another ReLU, then the output layer with 10 units, and the softmax output.\n",
    "\n",
    "The operations are available by passing in the appropriate index. For example, if you want to get first Linear operation and look at the weights, you'd use `model[0]`."
   ]
  },
  {
   "cell_type": "code",
   "execution_count": null,
   "metadata": {
    "collapsed": true
   },
   "outputs": [],
   "source": [
    "print(model[0])\n",
    "model[0].weight"
   ]
  },
  {
   "cell_type": "markdown",
   "metadata": {},
   "source": [
    "You can also pass in an `OrderedDict` to name the individual layers and operations, instead of using incremental integers. Note that dictionary keys must be unique, so _each operation must have a different name_."
   ]
  },
  {
   "cell_type": "code",
   "execution_count": null,
   "metadata": {
    "collapsed": true
   },
   "outputs": [],
   "source": [
    "from collections import OrderedDict\n",
    "model = nn.Sequential(OrderedDict([\n",
    "                      ('fc1', nn.Linear(input_size, hidden_sizes[0])),\n",
    "                      ('relu1', nn.ReLU()),\n",
    "                      ('fc2', nn.Linear(hidden_sizes[0], hidden_sizes[1])),\n",
    "                      ('relu2', nn.ReLU()),\n",
    "                      ('output', nn.Linear(hidden_sizes[1], output_size)),\n",
    "                      ('softmax', nn.Softmax(dim=1))]))\n",
    "model"
   ]
  },
  {
   "cell_type": "markdown",
   "metadata": {},
   "source": [
    "Now you can access layers either by integer or the name"
   ]
  },
  {
   "cell_type": "code",
   "execution_count": null,
   "metadata": {
    "collapsed": true
   },
   "outputs": [],
   "source": [
    "print(model[0])\n",
    "print(model.fc1)"
   ]
  },
  {
   "cell_type": "markdown",
   "metadata": {},
   "source": [
    "In the next notebook, we'll see how we can train a neural network to accuractly predict the numbers appearing in the MNIST images."
   ]
  }
 ],
 "metadata": {
  "kernelspec": {
   "display_name": "Python [default]",
   "language": "python",
   "name": "python3"
  },
  "language_info": {
   "codemirror_mode": {
    "name": "ipython",
    "version": 3
   },
   "file_extension": ".py",
   "mimetype": "text/x-python",
   "name": "python",
   "nbconvert_exporter": "python",
   "pygments_lexer": "ipython3",
   "version": "3.9.5"
  }
 },
 "nbformat": 4,
 "nbformat_minor": 2
}
